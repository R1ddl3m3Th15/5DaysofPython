{
 "cells": [
  {
   "cell_type": "code",
   "execution_count": 1,
   "id": "8dcc1f75",
   "metadata": {},
   "outputs": [
    {
     "name": "stdout",
     "output_type": "stream",
     "text": [
      "h3ll0 fri3nd\n"
     ]
    }
   ],
   "source": [
    "print('h3ll0 fri3nd')"
   ]
  },
  {
   "cell_type": "code",
   "execution_count": 2,
   "id": "607dd971",
   "metadata": {},
   "outputs": [
    {
     "name": "stdout",
     "output_type": "stream",
     "text": [
      "new\n"
     ]
    }
   ],
   "source": [
    "print('new')"
   ]
  },
  {
   "cell_type": "markdown",
   "id": "ed7c6334",
   "metadata": {},
   "source": [
    "Notes from Section 2: Python Setup, 8. Running Python Code for the first time in Jupyter"
   ]
  },
  {
   "cell_type": "code",
   "execution_count": null,
   "id": "91455de3",
   "metadata": {},
   "outputs": [],
   "source": []
  },
  {
   "cell_type": "code",
   "execution_count": null,
   "id": "8c1f5343",
   "metadata": {},
   "outputs": [],
   "source": []
  }
 ],
 "metadata": {
  "kernelspec": {
   "display_name": "Python 3",
   "language": "python",
   "name": "python3"
  },
  "language_info": {
   "codemirror_mode": {
    "name": "ipython",
    "version": 3
   },
   "file_extension": ".py",
   "mimetype": "text/x-python",
   "name": "python",
   "nbconvert_exporter": "python",
   "pygments_lexer": "ipython3",
   "version": "3.8.8"
  }
 },
 "nbformat": 4,
 "nbformat_minor": 5
}
